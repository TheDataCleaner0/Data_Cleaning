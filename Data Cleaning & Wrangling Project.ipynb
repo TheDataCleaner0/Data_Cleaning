{
  "metadata": {
    "kernelspec": {
      "name": "python",
      "display_name": "Python (Pyodide)",
      "language": "python"
    },
    "language_info": {
      "codemirror_mode": {
        "name": "python",
        "version": 3
      },
      "file_extension": ".py",
      "mimetype": "text/x-python",
      "name": "python",
      "nbconvert_exporter": "python",
      "pygments_lexer": "ipython3",
      "version": "3.8"
    }
  },
  "nbformat_minor": 5,
  "nbformat": 4,
  "cells": [
    {
      "id": "27ce77d1-0df0-41aa-b861-dafe96f0ff15",
      "cell_type": "markdown",
      "source": "# 🧼 Data Cleaning & Wrangling Project\n## 1. Project Overview\n- **Dataset**: dirty_cafe_sales.csv\n- **Source**: Kaggle Dataset - https://www.kaggle.com/datasets/ahmedmohamed2003/cafe-sales-dirty-data-for-cleaning-training/data\n- **Goal**: This primary objective of this project was to identify and rectify these issues, producing a clean, reliable dataset suitable for further analysis and visualization. The process involved initial data exploration, identification of quality problems, development and implementation of a cleaning strategy, and final validation of the results.\n\n",
      "metadata": {}
    },
    {
      "id": "167b569a-0962-4a90-a6a8-154aea535d52",
      "cell_type": "code",
      "source": "# Import necessary libararies\nimport pandas as pd\nimport numpy as np",
      "metadata": {
        "trusted": true
      },
      "outputs": [],
      "execution_count": 3
    },
    {
      "id": "70f88a9c-7415-4052-8ccf-45e7f2e4c9c7",
      "cell_type": "code",
      "source": "# Import Menu Item with Its Prices\nmenu_prices ={\n    \"Coffee\": 2.0,\n    \"Tea\": 1.5,\n    \"Sandwich\": 4.0,\n    \"Salad\": 5.0,\n    \"Cake\": 3.0,\n    \"Cookie\": 1.0,\n    \"Smoothie\": 4.0,\n    \"Juice\": 3.0\n}",
      "metadata": {
        "trusted": true
      },
      "outputs": [],
      "execution_count": 1
    },
    {
      "id": "f4905e2c-b38f-4c74-8407-8ce5c0b54897",
      "cell_type": "code",
      "source": "# Load Dataset\ndf = pd.read_csv('dirty_cafe_sales.csv')  # Change to your file\ndf.head()",
      "metadata": {
        "trusted": true
      },
      "outputs": [
        {
          "execution_count": 4,
          "output_type": "execute_result",
          "data": {
            "text/plain": "  Transaction ID    Item Quantity Price Per Unit Total Spent  Payment Method  \\\n0    TXN_1961373  Coffee        2            2.0         4.0     Credit Card   \n1    TXN_4977031    Cake        4            3.0        12.0            Cash   \n2    TXN_4271903  Cookie        4            1.0       ERROR     Credit Card   \n3    TXN_7034554   Salad        2            5.0        10.0         UNKNOWN   \n4    TXN_3160411  Coffee        2            2.0         4.0  Digital Wallet   \n\n   Location Transaction Date  \n0  Takeaway       2023-09-08  \n1  In-store       2023-05-16  \n2  In-store       2023-07-19  \n3   UNKNOWN       2023-04-27  \n4  In-store       2023-06-11  ",
            "text/html": "<div>\n<style scoped>\n    .dataframe tbody tr th:only-of-type {\n        vertical-align: middle;\n    }\n\n    .dataframe tbody tr th {\n        vertical-align: top;\n    }\n\n    .dataframe thead th {\n        text-align: right;\n    }\n</style>\n<table border=\"1\" class=\"dataframe\">\n  <thead>\n    <tr style=\"text-align: right;\">\n      <th></th>\n      <th>Transaction ID</th>\n      <th>Item</th>\n      <th>Quantity</th>\n      <th>Price Per Unit</th>\n      <th>Total Spent</th>\n      <th>Payment Method</th>\n      <th>Location</th>\n      <th>Transaction Date</th>\n    </tr>\n  </thead>\n  <tbody>\n    <tr>\n      <th>0</th>\n      <td>TXN_1961373</td>\n      <td>Coffee</td>\n      <td>2</td>\n      <td>2.0</td>\n      <td>4.0</td>\n      <td>Credit Card</td>\n      <td>Takeaway</td>\n      <td>2023-09-08</td>\n    </tr>\n    <tr>\n      <th>1</th>\n      <td>TXN_4977031</td>\n      <td>Cake</td>\n      <td>4</td>\n      <td>3.0</td>\n      <td>12.0</td>\n      <td>Cash</td>\n      <td>In-store</td>\n      <td>2023-05-16</td>\n    </tr>\n    <tr>\n      <th>2</th>\n      <td>TXN_4271903</td>\n      <td>Cookie</td>\n      <td>4</td>\n      <td>1.0</td>\n      <td>ERROR</td>\n      <td>Credit Card</td>\n      <td>In-store</td>\n      <td>2023-07-19</td>\n    </tr>\n    <tr>\n      <th>3</th>\n      <td>TXN_7034554</td>\n      <td>Salad</td>\n      <td>2</td>\n      <td>5.0</td>\n      <td>10.0</td>\n      <td>UNKNOWN</td>\n      <td>UNKNOWN</td>\n      <td>2023-04-27</td>\n    </tr>\n    <tr>\n      <th>4</th>\n      <td>TXN_3160411</td>\n      <td>Coffee</td>\n      <td>2</td>\n      <td>2.0</td>\n      <td>4.0</td>\n      <td>Digital Wallet</td>\n      <td>In-store</td>\n      <td>2023-06-11</td>\n    </tr>\n  </tbody>\n</table>\n</div>"
          },
          "metadata": {}
        }
      ],
      "execution_count": 4
    },
    {
      "id": "664947d4-660c-4a64-a6c9-3ed4ee36a0ac",
      "cell_type": "markdown",
      "source": "## 2. Initial Data Exploration",
      "metadata": {}
    },
    {
      "id": "b84de2d1-d374-4c2f-8cc0-e7be0396aa43",
      "cell_type": "code",
      "source": "print(\"Rows:\", df.shape[0], \"Columns:\", df.shape[1]) # we have 8 columns and 10000 rows of data in the dataset\ndf.info() # transaction ID is unique idetifier of each data entry",
      "metadata": {
        "trusted": true
      },
      "outputs": [
        {
          "name": "stdout",
          "output_type": "stream",
          "text": "Rows: 10000 Columns: 8\n<class 'pandas.core.frame.DataFrame'>\nRangeIndex: 10000 entries, 0 to 9999\nData columns (total 8 columns):\n #   Column            Non-Null Count  Dtype \n---  ------            --------------  ----- \n 0   Transaction ID    10000 non-null  object\n 1   Item              9667 non-null   object\n 2   Quantity          9862 non-null   object\n 3   Price Per Unit    9821 non-null   object\n 4   Total Spent       9827 non-null   object\n 5   Payment Method    7421 non-null   object\n 6   Location          6735 non-null   object\n 7   Transaction Date  9841 non-null   object\ndtypes: object(8)\nmemory usage: 312.6+ KB\n"
        }
      ],
      "execution_count": 42
    },
    {
      "id": "16e005f2-b5d4-43bb-bc2b-e06042fc1373",
      "cell_type": "code",
      "source": "df.describe()",
      "metadata": {
        "trusted": true
      },
      "outputs": [
        {
          "execution_count": 43,
          "output_type": "execute_result",
          "data": {
            "text/plain": "       Transaction ID   Item Quantity Price Per Unit Total Spent  \\\ncount           10000   9667     9862           9821        9827   \nunique          10000     10        7              8          19   \ntop       TXN_1961373  Juice        5            3.0         6.0   \nfreq                1   1171     2013           2429         979   \n\n        Payment Method  Location Transaction Date  \ncount             7421      6735             9841  \nunique               5         4              367  \ntop     Digital Wallet  Takeaway          UNKNOWN  \nfreq              2291      3022              159  ",
            "text/html": "<div>\n<style scoped>\n    .dataframe tbody tr th:only-of-type {\n        vertical-align: middle;\n    }\n\n    .dataframe tbody tr th {\n        vertical-align: top;\n    }\n\n    .dataframe thead th {\n        text-align: right;\n    }\n</style>\n<table border=\"1\" class=\"dataframe\">\n  <thead>\n    <tr style=\"text-align: right;\">\n      <th></th>\n      <th>Transaction ID</th>\n      <th>Item</th>\n      <th>Quantity</th>\n      <th>Price Per Unit</th>\n      <th>Total Spent</th>\n      <th>Payment Method</th>\n      <th>Location</th>\n      <th>Transaction Date</th>\n    </tr>\n  </thead>\n  <tbody>\n    <tr>\n      <th>count</th>\n      <td>10000</td>\n      <td>9667</td>\n      <td>9862</td>\n      <td>9821</td>\n      <td>9827</td>\n      <td>7421</td>\n      <td>6735</td>\n      <td>9841</td>\n    </tr>\n    <tr>\n      <th>unique</th>\n      <td>10000</td>\n      <td>10</td>\n      <td>7</td>\n      <td>8</td>\n      <td>19</td>\n      <td>5</td>\n      <td>4</td>\n      <td>367</td>\n    </tr>\n    <tr>\n      <th>top</th>\n      <td>TXN_1961373</td>\n      <td>Juice</td>\n      <td>5</td>\n      <td>3.0</td>\n      <td>6.0</td>\n      <td>Digital Wallet</td>\n      <td>Takeaway</td>\n      <td>UNKNOWN</td>\n    </tr>\n    <tr>\n      <th>freq</th>\n      <td>1</td>\n      <td>1171</td>\n      <td>2013</td>\n      <td>2429</td>\n      <td>979</td>\n      <td>2291</td>\n      <td>3022</td>\n      <td>159</td>\n    </tr>\n  </tbody>\n</table>\n</div>"
          },
          "metadata": {}
        }
      ],
      "execution_count": 43
    },
    {
      "id": "51afdcf8-0fc2-45db-90aa-a7273f313cfe",
      "cell_type": "code",
      "source": "df.isnull().sum()",
      "metadata": {
        "trusted": true
      },
      "outputs": [
        {
          "execution_count": 44,
          "output_type": "execute_result",
          "data": {
            "text/plain": "Transaction ID         0\nItem                 333\nQuantity             138\nPrice Per Unit       179\nTotal Spent          173\nPayment Method      2579\nLocation            3265\nTransaction Date     159\ndtype: int64"
          },
          "metadata": {}
        }
      ],
      "execution_count": 44
    },
    {
      "id": "36d62b3a-1429-4202-bb80-659363a02942",
      "cell_type": "markdown",
      "source": "## 3. Data Cleaning Steps",
      "metadata": {}
    },
    {
      "id": "605eaf8b-8c41-4462-9d4c-658ee7ca4840",
      "cell_type": "markdown",
      "source": "### 3.1 Convert Data Types",
      "metadata": {}
    },
    {
      "id": "9618ddcc-98ed-4c2d-9ad9-2bf47c7e1750",
      "cell_type": "code",
      "source": "# Transcation ID is the unique identifier, so no change is made for it.\n# Item - remove whitespace\ndf['Item'] = df['Item'].str.strip() \n\n# Quantity, Price Per Unit, Total Spent should be converted to numeric\ndf['Quantity'] = pd.to_numeric(df['Quantity'], errors='coerce')\ndf['Price Per Unit'] = pd.to_numeric(df['Price Per Unit'], errors='coerce')\ndf['Total Spent'] = pd.to_numeric(df['Total Spent'], errors='coerce')\n\n# transaction date should be converted to date\ndf['Transaction Date'] = pd.to_datetime(df['Transaction Date'], errors='coerce')\n\ndf.head()",
      "metadata": {
        "trusted": true
      },
      "outputs": [
        {
          "execution_count": 45,
          "output_type": "execute_result",
          "data": {
            "text/plain": "  Transaction ID    Item  Quantity  Price Per Unit  Total Spent  \\\n0    TXN_1961373  Coffee       2.0             2.0          4.0   \n1    TXN_4977031    Cake       4.0             3.0         12.0   \n2    TXN_4271903  Cookie       4.0             1.0          NaN   \n3    TXN_7034554   Salad       2.0             5.0         10.0   \n4    TXN_3160411  Coffee       2.0             2.0          4.0   \n\n   Payment Method  Location Transaction Date  \n0     Credit Card  Takeaway       2023-09-08  \n1            Cash  In-store       2023-05-16  \n2     Credit Card  In-store       2023-07-19  \n3         UNKNOWN   UNKNOWN       2023-04-27  \n4  Digital Wallet  In-store       2023-06-11  ",
            "text/html": "<div>\n<style scoped>\n    .dataframe tbody tr th:only-of-type {\n        vertical-align: middle;\n    }\n\n    .dataframe tbody tr th {\n        vertical-align: top;\n    }\n\n    .dataframe thead th {\n        text-align: right;\n    }\n</style>\n<table border=\"1\" class=\"dataframe\">\n  <thead>\n    <tr style=\"text-align: right;\">\n      <th></th>\n      <th>Transaction ID</th>\n      <th>Item</th>\n      <th>Quantity</th>\n      <th>Price Per Unit</th>\n      <th>Total Spent</th>\n      <th>Payment Method</th>\n      <th>Location</th>\n      <th>Transaction Date</th>\n    </tr>\n  </thead>\n  <tbody>\n    <tr>\n      <th>0</th>\n      <td>TXN_1961373</td>\n      <td>Coffee</td>\n      <td>2.0</td>\n      <td>2.0</td>\n      <td>4.0</td>\n      <td>Credit Card</td>\n      <td>Takeaway</td>\n      <td>2023-09-08</td>\n    </tr>\n    <tr>\n      <th>1</th>\n      <td>TXN_4977031</td>\n      <td>Cake</td>\n      <td>4.0</td>\n      <td>3.0</td>\n      <td>12.0</td>\n      <td>Cash</td>\n      <td>In-store</td>\n      <td>2023-05-16</td>\n    </tr>\n    <tr>\n      <th>2</th>\n      <td>TXN_4271903</td>\n      <td>Cookie</td>\n      <td>4.0</td>\n      <td>1.0</td>\n      <td>NaN</td>\n      <td>Credit Card</td>\n      <td>In-store</td>\n      <td>2023-07-19</td>\n    </tr>\n    <tr>\n      <th>3</th>\n      <td>TXN_7034554</td>\n      <td>Salad</td>\n      <td>2.0</td>\n      <td>5.0</td>\n      <td>10.0</td>\n      <td>UNKNOWN</td>\n      <td>UNKNOWN</td>\n      <td>2023-04-27</td>\n    </tr>\n    <tr>\n      <th>4</th>\n      <td>TXN_3160411</td>\n      <td>Coffee</td>\n      <td>2.0</td>\n      <td>2.0</td>\n      <td>4.0</td>\n      <td>Digital Wallet</td>\n      <td>In-store</td>\n      <td>2023-06-11</td>\n    </tr>\n  </tbody>\n</table>\n</div>"
          },
          "metadata": {}
        }
      ],
      "execution_count": 45
    },
    {
      "id": "42b0b1df-3091-4f73-bb4f-02eaefd6ce71",
      "cell_type": "markdown",
      "source": "### 3.2 Handling Invalid/Inconsistent Values",
      "metadata": {}
    },
    {
      "id": "cd0e9947-27a7-478d-bb42-99296dde042e",
      "cell_type": "code",
      "source": "df.replace(['ERROR', 'UNKNOWN'], np.nan, inplace=True)",
      "metadata": {
        "trusted": true
      },
      "outputs": [],
      "execution_count": 46
    },
    {
      "id": "ee62e24b-a69e-42b5-a5c6-243e7a3edc34",
      "cell_type": "code",
      "source": "item_mode = df['Item'].mode()[0]\ndf['Item'] = df['Item'].fillna(item_mode)\n\npayment_mode = df[\"Payment Method\"].mode()[0]\ndf[\"Payment Method\"] = df[\"Payment Method\"].fillna(payment_mode)\n\nlocation_mode = df[\"Location\"].mode()[0]\ndf[\"Location\"] = df[\"Location\"].fillna(location_mode)\n\ndate_mode = df[\"Transaction Date\"].mode()[0]\ndf[\"Transaction Date\"] = df[\"Transaction Date\"].fillna(date_mode)\n\nquantity_median = df['Quantity'].median()\ndf['Quantity'] = df['Quantity'].fillna(quantity_median)",
      "metadata": {
        "trusted": true
      },
      "outputs": [],
      "execution_count": 47
    },
    {
      "id": "3e554696-cf98-44b7-bb22-a2acaf6377e6",
      "cell_type": "code",
      "source": "# fill in the empty values in price per unit based on the items\ndef impute_price(row):\n    if pd.isna(row['Price Per Unit']):\n        item = row['Item']\n        if item in menu_prices:\n            return menu_prices[item]\n        else:\n            price_median = df['Price Per Unit'].median()\n            return price_median\n    return row['Price Per Unit']\n\ndf['Price Per Unit'] = df.apply(impute_price, axis=1)\n\ndf['Total Spent'] = df['Quantity'] * df['Price Per Unit']\n\ndf.info()",
      "metadata": {
        "trusted": true
      },
      "outputs": [
        {
          "name": "stdout",
          "output_type": "stream",
          "text": "<class 'pandas.core.frame.DataFrame'>\nRangeIndex: 10000 entries, 0 to 9999\nData columns (total 8 columns):\n #   Column            Non-Null Count  Dtype         \n---  ------            --------------  -----         \n 0   Transaction ID    10000 non-null  object        \n 1   Item              10000 non-null  object        \n 2   Quantity          10000 non-null  float64       \n 3   Price Per Unit    10000 non-null  float64       \n 4   Total Spent       10000 non-null  float64       \n 5   Payment Method    10000 non-null  object        \n 6   Location          10000 non-null  object        \n 7   Transaction Date  10000 non-null  datetime64[ns]\ndtypes: datetime64[ns](1), float64(3), object(4)\nmemory usage: 468.8+ KB\n"
        }
      ],
      "execution_count": 50
    },
    {
      "id": "6f261295-7438-4e13-8c91-86977141a91b",
      "cell_type": "markdown",
      "source": "### 3.3 Remove Duplicates",
      "metadata": {}
    },
    {
      "id": "19e41360-fdbe-4720-9db9-be60a859d559",
      "cell_type": "code",
      "source": "initial_rows = len(df)\ndf.drop_duplicates(subset=['Transaction ID'], keep='first', inplace=True)\nduplicates_removed = initial_rows - len(df)\nif duplicates_removed > 0:\n    print(\"Removed {duplicates_removed} duplicate rows based on 'Transaction ID'.\")\nelse:\n    print(\"No duplicate 'Transaction ID' found.\")",
      "metadata": {
        "trusted": true
      },
      "outputs": [
        {
          "name": "stdout",
          "output_type": "stream",
          "text": "No duplicate 'Transaction ID' found.\n"
        }
      ],
      "execution_count": 51
    },
    {
      "id": "a0e9e171-2bda-43fb-b40d-fb547d55f09b",
      "cell_type": "markdown",
      "source": "## 4. Post-Cleaning Checks",
      "metadata": {}
    },
    {
      "id": "aeb48825-5b2e-488b-b2a0-31ef0ebbb1b2",
      "cell_type": "code",
      "source": "df.isnull().sum()",
      "metadata": {
        "trusted": true
      },
      "outputs": [
        {
          "execution_count": 52,
          "output_type": "execute_result",
          "data": {
            "text/plain": "Transaction ID      0\nItem                0\nQuantity            0\nPrice Per Unit      0\nTotal Spent         0\nPayment Method      0\nLocation            0\nTransaction Date    0\ndtype: int64"
          },
          "metadata": {}
        }
      ],
      "execution_count": 52
    },
    {
      "id": "c8f1da8d-20f7-4c17-953a-6228f6b482e5",
      "cell_type": "markdown",
      "source": "## 5. Summary & Next Steps\nThe data cleaning process successfully addressed the identified quality issues in the original dirty_cafe_sales.csv dataset. Missing values, incorrect data types, invalid entries, and calculation inconsistencies were handled according to the defined plan. Validation confirmed that the resulting dataset, cleaned_cafe_sales.csv, is complete, consistent, and has appropriate data types.\n**This cleaned dataset is now suitable for reliable downstream analysis, visualization, or machine learning tasks**",
      "metadata": {}
    },
    {
      "id": "c26285f5-aa85-4b45-8b32-7b5e96b5201e",
      "cell_type": "code",
      "source": "# save cleaned data\ndf.to_csv(\"cleaned_cafe_, index=False)",
      "metadata": {
        "trusted": true
      },
      "outputs": [
        {
          "ename": "<class 'NameError'>",
          "evalue": "name 'Cleaned_Cafe_sales' is not defined",
          "traceback": [
            "\u001b[0;31m---------------------------------------------------------------------------\u001b[0m",
            "\u001b[0;31mNameError\u001b[0m                                 Traceback (most recent call last)",
            "Cell \u001b[0;32mIn[53], line 2\u001b[0m\n\u001b[1;32m      1\u001b[0m \u001b[38;5;66;03m# save cleaned data\u001b[39;00m\n\u001b[0;32m----> 2\u001b[0m df\u001b[38;5;241m.\u001b[39mto_csv(\u001b[43mCleaned_Cafe_sales\u001b[49m, index\u001b[38;5;241m=\u001b[39m\u001b[38;5;28;01mFalse\u001b[39;00m)\n",
            "\u001b[0;31mNameError\u001b[0m: name 'Cleaned_Cafe_sales' is not defined"
          ],
          "output_type": "error"
        }
      ],
      "execution_count": 53
    }
  ]
}